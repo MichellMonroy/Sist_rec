{
 "cells": [
  {
   "cell_type": "code",
   "execution_count": 1,
   "metadata": {},
   "outputs": [],
   "source": [
    "%matplotlib inline\n",
    "%reload_ext autoreload\n",
    "%autoreload 2"
   ]
  },
  {
   "cell_type": "code",
   "execution_count": 2,
   "metadata": {},
   "outputs": [],
   "source": [
    "import pandas as pd\n",
    "import numpy as np\n",
    "import scipy as sp\n",
    "from sklearn.metrics.pairwise import cosine_similarity\n",
    "import operator\n",
    "import gc\n",
    "#import torch\n",
    "import zipfile"
   ]
  },
  {
   "cell_type": "code",
   "execution_count": null,
   "metadata": {},
   "outputs": [],
   "source": [
    "#archivo = zipfile.ZipFile('ml10m.zip')\n",
    "archivo = zipfile.ZipFile('ml-1m.zip')"
   ]
  },
  {
   "cell_type": "code",
   "execution_count": null,
   "metadata": {},
   "outputs": [],
   "source": [
    "archivo.extractall('')"
   ]
  },
  {
   "cell_type": "code",
   "execution_count": 3,
   "metadata": {},
   "outputs": [
    {
     "name": "stderr",
     "output_type": "stream",
     "text": [
      "/home/mich/anaconda3/lib/python3.7/site-packages/ipykernel_launcher.py:2: ParserWarning: Falling back to the 'python' engine because the 'c' engine does not support regex separators (separators > 1 char and different from '\\s+' are interpreted as regex); you can avoid this warning by specifying engine='python'.\n",
      "  \n"
     ]
    }
   ],
   "source": [
    "movie_col = ['movie_id', 'titulo', 'genero']\n",
    "movie = pd.read_csv('movies.dat', sep='::', names=movie_col)"
   ]
  },
  {
   "cell_type": "code",
   "execution_count": 4,
   "metadata": {},
   "outputs": [
    {
     "data": {
      "text/html": [
       "<div>\n",
       "<style scoped>\n",
       "    .dataframe tbody tr th:only-of-type {\n",
       "        vertical-align: middle;\n",
       "    }\n",
       "\n",
       "    .dataframe tbody tr th {\n",
       "        vertical-align: top;\n",
       "    }\n",
       "\n",
       "    .dataframe thead th {\n",
       "        text-align: right;\n",
       "    }\n",
       "</style>\n",
       "<table border=\"1\" class=\"dataframe\">\n",
       "  <thead>\n",
       "    <tr style=\"text-align: right;\">\n",
       "      <th></th>\n",
       "      <th>movie_id</th>\n",
       "      <th>titulo</th>\n",
       "      <th>genero</th>\n",
       "    </tr>\n",
       "  </thead>\n",
       "  <tbody>\n",
       "    <tr>\n",
       "      <th>0</th>\n",
       "      <td>1</td>\n",
       "      <td>Toy Story (1995)</td>\n",
       "      <td>Animation|Children's|Comedy</td>\n",
       "    </tr>\n",
       "    <tr>\n",
       "      <th>1</th>\n",
       "      <td>2</td>\n",
       "      <td>Jumanji (1995)</td>\n",
       "      <td>Adventure|Children's|Fantasy</td>\n",
       "    </tr>\n",
       "    <tr>\n",
       "      <th>2</th>\n",
       "      <td>3</td>\n",
       "      <td>Grumpier Old Men (1995)</td>\n",
       "      <td>Comedy|Romance</td>\n",
       "    </tr>\n",
       "    <tr>\n",
       "      <th>3</th>\n",
       "      <td>4</td>\n",
       "      <td>Waiting to Exhale (1995)</td>\n",
       "      <td>Comedy|Drama</td>\n",
       "    </tr>\n",
       "    <tr>\n",
       "      <th>4</th>\n",
       "      <td>5</td>\n",
       "      <td>Father of the Bride Part II (1995)</td>\n",
       "      <td>Comedy</td>\n",
       "    </tr>\n",
       "  </tbody>\n",
       "</table>\n",
       "</div>"
      ],
      "text/plain": [
       "   movie_id                              titulo                        genero\n",
       "0         1                    Toy Story (1995)   Animation|Children's|Comedy\n",
       "1         2                      Jumanji (1995)  Adventure|Children's|Fantasy\n",
       "2         3             Grumpier Old Men (1995)                Comedy|Romance\n",
       "3         4            Waiting to Exhale (1995)                  Comedy|Drama\n",
       "4         5  Father of the Bride Part II (1995)                        Comedy"
      ]
     },
     "execution_count": 4,
     "metadata": {},
     "output_type": "execute_result"
    }
   ],
   "source": [
    "movie.head()"
   ]
  },
  {
   "cell_type": "markdown",
   "metadata": {},
   "source": [
    "# Preprocesamiento de los datos de movie\n",
    "\n",
    "Vamos a separar el año del titulo para que sea más fácil hacer la búsqueda de los titulos sin necesidad de poner el año de estreno."
   ]
  },
  {
   "cell_type": "code",
   "execution_count": 5,
   "metadata": {},
   "outputs": [],
   "source": [
    "nombres = movie['titulo'].tolist() #Sacamos los titulos de las películas en una lista para hacer split entre los nombres y el año"
   ]
  },
  {
   "cell_type": "code",
   "execution_count": null,
   "metadata": {},
   "outputs": [],
   "source": [
    "nombres[0][-6:]"
   ]
  },
  {
   "cell_type": "code",
   "execution_count": 6,
   "metadata": {},
   "outputs": [],
   "source": [
    "#A cada elemento de nombre se le divide en 2 partes: el nombre de la película dentro de la lista name \n",
    "#y dentro de la lista year va el año de cada película\n",
    "name = []\n",
    "year = []\n",
    "for i in nombres:\n",
    "    name.append(i[:-7])\n",
    "    year.append(i[-6:])"
   ]
  },
  {
   "cell_type": "code",
   "execution_count": null,
   "metadata": {},
   "outputs": [],
   "source": [
    "name[:10]"
   ]
  },
  {
   "cell_type": "code",
   "execution_count": null,
   "metadata": {},
   "outputs": [],
   "source": [
    "year[:10]"
   ]
  },
  {
   "cell_type": "code",
   "execution_count": 7,
   "metadata": {},
   "outputs": [],
   "source": [
    "#Convertimos ambas listas con dataframes para poder agregarlas al df final\n",
    "name = pd.DataFrame(name, columns=['titulo'])\n",
    "years = pd.DataFrame(year, columns=['year'])"
   ]
  },
  {
   "cell_type": "code",
   "execution_count": 8,
   "metadata": {},
   "outputs": [],
   "source": [
    "movie.drop(movie.columns[1], axis=1, inplace=True) # Quitamos la columna de titulo del df original\n",
    "\n",
    "movie = pd.merge(movie, name, left_on=None, right_on=None, left_index=True, right_index=True)\n",
    "movie = pd.merge(movie, years, left_on=None, right_on=None, left_index=True, right_index=True)"
   ]
  },
  {
   "cell_type": "code",
   "execution_count": null,
   "metadata": {},
   "outputs": [],
   "source": [
    "movie.head()"
   ]
  },
  {
   "cell_type": "code",
   "execution_count": 9,
   "metadata": {},
   "outputs": [
    {
     "data": {
      "text/html": [
       "<div>\n",
       "<style scoped>\n",
       "    .dataframe tbody tr th:only-of-type {\n",
       "        vertical-align: middle;\n",
       "    }\n",
       "\n",
       "    .dataframe tbody tr th {\n",
       "        vertical-align: top;\n",
       "    }\n",
       "\n",
       "    .dataframe thead th {\n",
       "        text-align: right;\n",
       "    }\n",
       "</style>\n",
       "<table border=\"1\" class=\"dataframe\">\n",
       "  <thead>\n",
       "    <tr style=\"text-align: right;\">\n",
       "      <th></th>\n",
       "      <th>movie_id</th>\n",
       "      <th>titulo</th>\n",
       "      <th>year</th>\n",
       "      <th>genero</th>\n",
       "    </tr>\n",
       "  </thead>\n",
       "  <tbody>\n",
       "    <tr>\n",
       "      <th>0</th>\n",
       "      <td>1</td>\n",
       "      <td>Toy Story</td>\n",
       "      <td>(1995)</td>\n",
       "      <td>Animation|Children's|Comedy</td>\n",
       "    </tr>\n",
       "    <tr>\n",
       "      <th>1</th>\n",
       "      <td>2</td>\n",
       "      <td>Jumanji</td>\n",
       "      <td>(1995)</td>\n",
       "      <td>Adventure|Children's|Fantasy</td>\n",
       "    </tr>\n",
       "    <tr>\n",
       "      <th>2</th>\n",
       "      <td>3</td>\n",
       "      <td>Grumpier Old Men</td>\n",
       "      <td>(1995)</td>\n",
       "      <td>Comedy|Romance</td>\n",
       "    </tr>\n",
       "    <tr>\n",
       "      <th>3</th>\n",
       "      <td>4</td>\n",
       "      <td>Waiting to Exhale</td>\n",
       "      <td>(1995)</td>\n",
       "      <td>Comedy|Drama</td>\n",
       "    </tr>\n",
       "    <tr>\n",
       "      <th>4</th>\n",
       "      <td>5</td>\n",
       "      <td>Father of the Bride Part II</td>\n",
       "      <td>(1995)</td>\n",
       "      <td>Comedy</td>\n",
       "    </tr>\n",
       "  </tbody>\n",
       "</table>\n",
       "</div>"
      ],
      "text/plain": [
       "   movie_id                       titulo    year                        genero\n",
       "0         1                    Toy Story  (1995)   Animation|Children's|Comedy\n",
       "1         2                      Jumanji  (1995)  Adventure|Children's|Fantasy\n",
       "2         3             Grumpier Old Men  (1995)                Comedy|Romance\n",
       "3         4            Waiting to Exhale  (1995)                  Comedy|Drama\n",
       "4         5  Father of the Bride Part II  (1995)                        Comedy"
      ]
     },
     "execution_count": 9,
     "metadata": {},
     "output_type": "execute_result"
    }
   ],
   "source": [
    "cols = ['movie_id', 'titulo', 'year', 'genero'] #Reordenamos las columnas solo para que se vea más bonito\n",
    "movie = movie[cols]\n",
    "movie.head()"
   ]
  },
  {
   "cell_type": "code",
   "execution_count": 10,
   "metadata": {},
   "outputs": [
    {
     "name": "stderr",
     "output_type": "stream",
     "text": [
      "/home/mich/anaconda3/lib/python3.7/site-packages/ipykernel_launcher.py:2: ParserWarning: Falling back to the 'python' engine because the 'c' engine does not support regex separators (separators > 1 char and different from '\\s+' are interpreted as regex); you can avoid this warning by specifying engine='python'.\n",
      "  \n"
     ]
    }
   ],
   "source": [
    "rating_col = ['user_id', 'movie_id', 'rating']\n",
    "ratings = pd.read_csv('ratings.dat', sep='::', names=rating_col, usecols=range(3))"
   ]
  },
  {
   "cell_type": "code",
   "execution_count": null,
   "metadata": {},
   "outputs": [],
   "source": [
    "ratings.head()"
   ]
  },
  {
   "cell_type": "code",
   "execution_count": null,
   "metadata": {},
   "outputs": [],
   "source": [
    "usuario_col = ['user_id']\n",
    "usuarios = pd.read_csv('users.dat', sep='::', names=usuario_col, usecols=range(1))"
   ]
  },
  {
   "cell_type": "code",
   "execution_count": null,
   "metadata": {},
   "outputs": [],
   "source": [
    "usuarios.head()"
   ]
  },
  {
   "cell_type": "code",
   "execution_count": 11,
   "metadata": {},
   "outputs": [],
   "source": [
    "movie_rating = pd.merge(movie, ratings) # Juntamos los df de ratings y películas"
   ]
  },
  {
   "cell_type": "code",
   "execution_count": 12,
   "metadata": {},
   "outputs": [
    {
     "data": {
      "text/html": [
       "<div>\n",
       "<style scoped>\n",
       "    .dataframe tbody tr th:only-of-type {\n",
       "        vertical-align: middle;\n",
       "    }\n",
       "\n",
       "    .dataframe tbody tr th {\n",
       "        vertical-align: top;\n",
       "    }\n",
       "\n",
       "    .dataframe thead th {\n",
       "        text-align: right;\n",
       "    }\n",
       "</style>\n",
       "<table border=\"1\" class=\"dataframe\">\n",
       "  <thead>\n",
       "    <tr style=\"text-align: right;\">\n",
       "      <th></th>\n",
       "      <th>movie_id</th>\n",
       "      <th>titulo</th>\n",
       "      <th>year</th>\n",
       "      <th>genero</th>\n",
       "      <th>user_id</th>\n",
       "      <th>rating</th>\n",
       "    </tr>\n",
       "  </thead>\n",
       "  <tbody>\n",
       "    <tr>\n",
       "      <th>0</th>\n",
       "      <td>1</td>\n",
       "      <td>Toy Story</td>\n",
       "      <td>(1995)</td>\n",
       "      <td>Animation|Children's|Comedy</td>\n",
       "      <td>1</td>\n",
       "      <td>5</td>\n",
       "    </tr>\n",
       "    <tr>\n",
       "      <th>1</th>\n",
       "      <td>1</td>\n",
       "      <td>Toy Story</td>\n",
       "      <td>(1995)</td>\n",
       "      <td>Animation|Children's|Comedy</td>\n",
       "      <td>6</td>\n",
       "      <td>4</td>\n",
       "    </tr>\n",
       "    <tr>\n",
       "      <th>2</th>\n",
       "      <td>1</td>\n",
       "      <td>Toy Story</td>\n",
       "      <td>(1995)</td>\n",
       "      <td>Animation|Children's|Comedy</td>\n",
       "      <td>8</td>\n",
       "      <td>4</td>\n",
       "    </tr>\n",
       "    <tr>\n",
       "      <th>3</th>\n",
       "      <td>1</td>\n",
       "      <td>Toy Story</td>\n",
       "      <td>(1995)</td>\n",
       "      <td>Animation|Children's|Comedy</td>\n",
       "      <td>9</td>\n",
       "      <td>5</td>\n",
       "    </tr>\n",
       "    <tr>\n",
       "      <th>4</th>\n",
       "      <td>1</td>\n",
       "      <td>Toy Story</td>\n",
       "      <td>(1995)</td>\n",
       "      <td>Animation|Children's|Comedy</td>\n",
       "      <td>10</td>\n",
       "      <td>5</td>\n",
       "    </tr>\n",
       "  </tbody>\n",
       "</table>\n",
       "</div>"
      ],
      "text/plain": [
       "   movie_id     titulo    year                       genero  user_id  rating\n",
       "0         1  Toy Story  (1995)  Animation|Children's|Comedy        1       5\n",
       "1         1  Toy Story  (1995)  Animation|Children's|Comedy        6       4\n",
       "2         1  Toy Story  (1995)  Animation|Children's|Comedy        8       4\n",
       "3         1  Toy Story  (1995)  Animation|Children's|Comedy        9       5\n",
       "4         1  Toy Story  (1995)  Animation|Children's|Comedy       10       5"
      ]
     },
     "execution_count": 12,
     "metadata": {},
     "output_type": "execute_result"
    }
   ],
   "source": [
    "movie_rating.head()"
   ]
  },
  {
   "cell_type": "code",
   "execution_count": null,
   "metadata": {},
   "outputs": [],
   "source": [
    "movie_rating.shape"
   ]
  },
  {
   "cell_type": "markdown",
   "metadata": {},
   "source": [
    "Creamos un df que tiene como filas 'user_id' y columnas los titulos de películas, por lo tanto, los datos corresponden al rating que el usuario x le asigna a la película y"
   ]
  },
  {
   "cell_type": "code",
   "execution_count": 13,
   "metadata": {},
   "outputs": [],
   "source": [
    "datos_completos = movie_rating.pivot_table(index=['user_id'],columns=['titulo'],values='rating')"
   ]
  },
  {
   "cell_type": "code",
   "execution_count": 14,
   "metadata": {},
   "outputs": [
    {
     "data": {
      "text/html": [
       "<div>\n",
       "<style scoped>\n",
       "    .dataframe tbody tr th:only-of-type {\n",
       "        vertical-align: middle;\n",
       "    }\n",
       "\n",
       "    .dataframe tbody tr th {\n",
       "        vertical-align: top;\n",
       "    }\n",
       "\n",
       "    .dataframe thead th {\n",
       "        text-align: right;\n",
       "    }\n",
       "</style>\n",
       "<table border=\"1\" class=\"dataframe\">\n",
       "  <thead>\n",
       "    <tr style=\"text-align: right;\">\n",
       "      <th>titulo</th>\n",
       "      <th>$1,000,000 Duck</th>\n",
       "      <th>'Night Mother</th>\n",
       "      <th>'Til There Was You</th>\n",
       "      <th>'burbs, The</th>\n",
       "      <th>...And Justice for All</th>\n",
       "      <th>1-900</th>\n",
       "      <th>10 Things I Hate About You</th>\n",
       "      <th>101 Dalmatians</th>\n",
       "      <th>12 Angry Men</th>\n",
       "      <th>13th Warrior, The</th>\n",
       "      <th>...</th>\n",
       "      <th>Young Poisoner's Handbook, The</th>\n",
       "      <th>Young Sherlock Holmes</th>\n",
       "      <th>Young and Innocent</th>\n",
       "      <th>Your Friends and Neighbors</th>\n",
       "      <th>Zachariah</th>\n",
       "      <th>Zed &amp; Two Noughts, A</th>\n",
       "      <th>Zero Effect</th>\n",
       "      <th>Zero Kelvin (Kj�rlighetens kj�tere)</th>\n",
       "      <th>Zeus and Roxanne</th>\n",
       "      <th>eXistenZ</th>\n",
       "    </tr>\n",
       "    <tr>\n",
       "      <th>user_id</th>\n",
       "      <th></th>\n",
       "      <th></th>\n",
       "      <th></th>\n",
       "      <th></th>\n",
       "      <th></th>\n",
       "      <th></th>\n",
       "      <th></th>\n",
       "      <th></th>\n",
       "      <th></th>\n",
       "      <th></th>\n",
       "      <th></th>\n",
       "      <th></th>\n",
       "      <th></th>\n",
       "      <th></th>\n",
       "      <th></th>\n",
       "      <th></th>\n",
       "      <th></th>\n",
       "      <th></th>\n",
       "      <th></th>\n",
       "      <th></th>\n",
       "      <th></th>\n",
       "    </tr>\n",
       "  </thead>\n",
       "  <tbody>\n",
       "    <tr>\n",
       "      <th>1</th>\n",
       "      <td>NaN</td>\n",
       "      <td>NaN</td>\n",
       "      <td>NaN</td>\n",
       "      <td>NaN</td>\n",
       "      <td>NaN</td>\n",
       "      <td>NaN</td>\n",
       "      <td>NaN</td>\n",
       "      <td>NaN</td>\n",
       "      <td>NaN</td>\n",
       "      <td>NaN</td>\n",
       "      <td>...</td>\n",
       "      <td>NaN</td>\n",
       "      <td>NaN</td>\n",
       "      <td>NaN</td>\n",
       "      <td>NaN</td>\n",
       "      <td>NaN</td>\n",
       "      <td>NaN</td>\n",
       "      <td>NaN</td>\n",
       "      <td>NaN</td>\n",
       "      <td>NaN</td>\n",
       "      <td>NaN</td>\n",
       "    </tr>\n",
       "    <tr>\n",
       "      <th>2</th>\n",
       "      <td>NaN</td>\n",
       "      <td>NaN</td>\n",
       "      <td>NaN</td>\n",
       "      <td>NaN</td>\n",
       "      <td>NaN</td>\n",
       "      <td>NaN</td>\n",
       "      <td>NaN</td>\n",
       "      <td>NaN</td>\n",
       "      <td>NaN</td>\n",
       "      <td>NaN</td>\n",
       "      <td>...</td>\n",
       "      <td>NaN</td>\n",
       "      <td>NaN</td>\n",
       "      <td>NaN</td>\n",
       "      <td>NaN</td>\n",
       "      <td>NaN</td>\n",
       "      <td>NaN</td>\n",
       "      <td>NaN</td>\n",
       "      <td>NaN</td>\n",
       "      <td>NaN</td>\n",
       "      <td>NaN</td>\n",
       "    </tr>\n",
       "    <tr>\n",
       "      <th>3</th>\n",
       "      <td>NaN</td>\n",
       "      <td>NaN</td>\n",
       "      <td>NaN</td>\n",
       "      <td>NaN</td>\n",
       "      <td>NaN</td>\n",
       "      <td>NaN</td>\n",
       "      <td>NaN</td>\n",
       "      <td>NaN</td>\n",
       "      <td>NaN</td>\n",
       "      <td>NaN</td>\n",
       "      <td>...</td>\n",
       "      <td>NaN</td>\n",
       "      <td>NaN</td>\n",
       "      <td>NaN</td>\n",
       "      <td>NaN</td>\n",
       "      <td>NaN</td>\n",
       "      <td>NaN</td>\n",
       "      <td>NaN</td>\n",
       "      <td>NaN</td>\n",
       "      <td>NaN</td>\n",
       "      <td>NaN</td>\n",
       "    </tr>\n",
       "    <tr>\n",
       "      <th>4</th>\n",
       "      <td>NaN</td>\n",
       "      <td>NaN</td>\n",
       "      <td>NaN</td>\n",
       "      <td>NaN</td>\n",
       "      <td>NaN</td>\n",
       "      <td>NaN</td>\n",
       "      <td>NaN</td>\n",
       "      <td>NaN</td>\n",
       "      <td>NaN</td>\n",
       "      <td>NaN</td>\n",
       "      <td>...</td>\n",
       "      <td>NaN</td>\n",
       "      <td>NaN</td>\n",
       "      <td>NaN</td>\n",
       "      <td>NaN</td>\n",
       "      <td>NaN</td>\n",
       "      <td>NaN</td>\n",
       "      <td>NaN</td>\n",
       "      <td>NaN</td>\n",
       "      <td>NaN</td>\n",
       "      <td>NaN</td>\n",
       "    </tr>\n",
       "    <tr>\n",
       "      <th>5</th>\n",
       "      <td>NaN</td>\n",
       "      <td>NaN</td>\n",
       "      <td>NaN</td>\n",
       "      <td>NaN</td>\n",
       "      <td>NaN</td>\n",
       "      <td>NaN</td>\n",
       "      <td>NaN</td>\n",
       "      <td>NaN</td>\n",
       "      <td>NaN</td>\n",
       "      <td>NaN</td>\n",
       "      <td>...</td>\n",
       "      <td>NaN</td>\n",
       "      <td>NaN</td>\n",
       "      <td>NaN</td>\n",
       "      <td>NaN</td>\n",
       "      <td>NaN</td>\n",
       "      <td>NaN</td>\n",
       "      <td>NaN</td>\n",
       "      <td>NaN</td>\n",
       "      <td>NaN</td>\n",
       "      <td>NaN</td>\n",
       "    </tr>\n",
       "  </tbody>\n",
       "</table>\n",
       "<p>5 rows × 3664 columns</p>\n",
       "</div>"
      ],
      "text/plain": [
       "titulo   $1,000,000 Duck  'Night Mother  'Til There Was You  'burbs, The  \\\n",
       "user_id                                                                    \n",
       "1                    NaN            NaN                 NaN          NaN   \n",
       "2                    NaN            NaN                 NaN          NaN   \n",
       "3                    NaN            NaN                 NaN          NaN   \n",
       "4                    NaN            NaN                 NaN          NaN   \n",
       "5                    NaN            NaN                 NaN          NaN   \n",
       "\n",
       "titulo   ...And Justice for All  1-900  10 Things I Hate About You  \\\n",
       "user_id                                                              \n",
       "1                           NaN    NaN                         NaN   \n",
       "2                           NaN    NaN                         NaN   \n",
       "3                           NaN    NaN                         NaN   \n",
       "4                           NaN    NaN                         NaN   \n",
       "5                           NaN    NaN                         NaN   \n",
       "\n",
       "titulo   101 Dalmatians  12 Angry Men  13th Warrior, The    ...     \\\n",
       "user_id                                                     ...      \n",
       "1                   NaN           NaN                NaN    ...      \n",
       "2                   NaN           NaN                NaN    ...      \n",
       "3                   NaN           NaN                NaN    ...      \n",
       "4                   NaN           NaN                NaN    ...      \n",
       "5                   NaN           NaN                NaN    ...      \n",
       "\n",
       "titulo   Young Poisoner's Handbook, The  Young Sherlock Holmes  \\\n",
       "user_id                                                          \n",
       "1                                   NaN                    NaN   \n",
       "2                                   NaN                    NaN   \n",
       "3                                   NaN                    NaN   \n",
       "4                                   NaN                    NaN   \n",
       "5                                   NaN                    NaN   \n",
       "\n",
       "titulo   Young and Innocent  Your Friends and Neighbors  Zachariah  \\\n",
       "user_id                                                              \n",
       "1                       NaN                         NaN        NaN   \n",
       "2                       NaN                         NaN        NaN   \n",
       "3                       NaN                         NaN        NaN   \n",
       "4                       NaN                         NaN        NaN   \n",
       "5                       NaN                         NaN        NaN   \n",
       "\n",
       "titulo   Zed & Two Noughts, A  Zero Effect  \\\n",
       "user_id                                      \n",
       "1                         NaN          NaN   \n",
       "2                         NaN          NaN   \n",
       "3                         NaN          NaN   \n",
       "4                         NaN          NaN   \n",
       "5                         NaN          NaN   \n",
       "\n",
       "titulo   Zero Kelvin (Kj�rlighetens kj�tere)  Zeus and Roxanne  eXistenZ  \n",
       "user_id                                                                   \n",
       "1                                        NaN               NaN       NaN  \n",
       "2                                        NaN               NaN       NaN  \n",
       "3                                        NaN               NaN       NaN  \n",
       "4                                        NaN               NaN       NaN  \n",
       "5                                        NaN               NaN       NaN  \n",
       "\n",
       "[5 rows x 3664 columns]"
      ]
     },
     "execution_count": 14,
     "metadata": {},
     "output_type": "execute_result"
    }
   ],
   "source": [
    "datos_completos.head()"
   ]
  },
  {
   "cell_type": "code",
   "execution_count": null,
   "metadata": {},
   "outputs": [],
   "source": [
    "datos_completos.shape"
   ]
  },
  {
   "cell_type": "code",
   "execution_count": 15,
   "metadata": {},
   "outputs": [],
   "source": [
    "datos_completos = datos_completos.fillna(0);"
   ]
  },
  {
   "cell_type": "code",
   "execution_count": 16,
   "metadata": {},
   "outputs": [],
   "source": [
    "datos_norm = datos_completos.apply(lambda x: (x-np.mean(x))/np.std(x), axis=1)"
   ]
  },
  {
   "cell_type": "code",
   "execution_count": 17,
   "metadata": {},
   "outputs": [
    {
     "data": {
      "text/html": [
       "<div>\n",
       "<style scoped>\n",
       "    .dataframe tbody tr th:only-of-type {\n",
       "        vertical-align: middle;\n",
       "    }\n",
       "\n",
       "    .dataframe tbody tr th {\n",
       "        vertical-align: top;\n",
       "    }\n",
       "\n",
       "    .dataframe thead th {\n",
       "        text-align: right;\n",
       "    }\n",
       "</style>\n",
       "<table border=\"1\" class=\"dataframe\">\n",
       "  <thead>\n",
       "    <tr style=\"text-align: right;\">\n",
       "      <th>titulo</th>\n",
       "      <th>$1,000,000 Duck</th>\n",
       "      <th>'Night Mother</th>\n",
       "      <th>'Til There Was You</th>\n",
       "      <th>'burbs, The</th>\n",
       "      <th>...And Justice for All</th>\n",
       "      <th>1-900</th>\n",
       "      <th>10 Things I Hate About You</th>\n",
       "      <th>101 Dalmatians</th>\n",
       "      <th>12 Angry Men</th>\n",
       "      <th>13th Warrior, The</th>\n",
       "      <th>...</th>\n",
       "      <th>Young Poisoner's Handbook, The</th>\n",
       "      <th>Young Sherlock Holmes</th>\n",
       "      <th>Young and Innocent</th>\n",
       "      <th>Your Friends and Neighbors</th>\n",
       "      <th>Zachariah</th>\n",
       "      <th>Zed &amp; Two Noughts, A</th>\n",
       "      <th>Zero Effect</th>\n",
       "      <th>Zero Kelvin (Kj�rlighetens kj�tere)</th>\n",
       "      <th>Zeus and Roxanne</th>\n",
       "      <th>eXistenZ</th>\n",
       "    </tr>\n",
       "    <tr>\n",
       "      <th>user_id</th>\n",
       "      <th></th>\n",
       "      <th></th>\n",
       "      <th></th>\n",
       "      <th></th>\n",
       "      <th></th>\n",
       "      <th></th>\n",
       "      <th></th>\n",
       "      <th></th>\n",
       "      <th></th>\n",
       "      <th></th>\n",
       "      <th></th>\n",
       "      <th></th>\n",
       "      <th></th>\n",
       "      <th></th>\n",
       "      <th></th>\n",
       "      <th></th>\n",
       "      <th></th>\n",
       "      <th></th>\n",
       "      <th></th>\n",
       "      <th></th>\n",
       "      <th></th>\n",
       "    </tr>\n",
       "  </thead>\n",
       "  <tbody>\n",
       "    <tr>\n",
       "      <th>1</th>\n",
       "      <td>-0.119587</td>\n",
       "      <td>-0.119587</td>\n",
       "      <td>-0.119587</td>\n",
       "      <td>-0.119587</td>\n",
       "      <td>-0.119587</td>\n",
       "      <td>-0.119587</td>\n",
       "      <td>-0.119587</td>\n",
       "      <td>-0.119587</td>\n",
       "      <td>-0.119587</td>\n",
       "      <td>-0.119587</td>\n",
       "      <td>...</td>\n",
       "      <td>-0.119587</td>\n",
       "      <td>-0.119587</td>\n",
       "      <td>-0.119587</td>\n",
       "      <td>-0.119587</td>\n",
       "      <td>-0.119587</td>\n",
       "      <td>-0.119587</td>\n",
       "      <td>-0.119587</td>\n",
       "      <td>-0.119587</td>\n",
       "      <td>-0.119587</td>\n",
       "      <td>-0.119587</td>\n",
       "    </tr>\n",
       "    <tr>\n",
       "      <th>2</th>\n",
       "      <td>-0.184261</td>\n",
       "      <td>-0.184261</td>\n",
       "      <td>-0.184261</td>\n",
       "      <td>-0.184261</td>\n",
       "      <td>-0.184261</td>\n",
       "      <td>-0.184261</td>\n",
       "      <td>-0.184261</td>\n",
       "      <td>-0.184261</td>\n",
       "      <td>-0.184261</td>\n",
       "      <td>-0.184261</td>\n",
       "      <td>...</td>\n",
       "      <td>-0.184261</td>\n",
       "      <td>-0.184261</td>\n",
       "      <td>-0.184261</td>\n",
       "      <td>-0.184261</td>\n",
       "      <td>-0.184261</td>\n",
       "      <td>-0.184261</td>\n",
       "      <td>-0.184261</td>\n",
       "      <td>-0.184261</td>\n",
       "      <td>-0.184261</td>\n",
       "      <td>-0.184261</td>\n",
       "    </tr>\n",
       "    <tr>\n",
       "      <th>3</th>\n",
       "      <td>-0.115216</td>\n",
       "      <td>-0.115216</td>\n",
       "      <td>-0.115216</td>\n",
       "      <td>-0.115216</td>\n",
       "      <td>-0.115216</td>\n",
       "      <td>-0.115216</td>\n",
       "      <td>-0.115216</td>\n",
       "      <td>-0.115216</td>\n",
       "      <td>-0.115216</td>\n",
       "      <td>-0.115216</td>\n",
       "      <td>...</td>\n",
       "      <td>-0.115216</td>\n",
       "      <td>-0.115216</td>\n",
       "      <td>-0.115216</td>\n",
       "      <td>-0.115216</td>\n",
       "      <td>-0.115216</td>\n",
       "      <td>-0.115216</td>\n",
       "      <td>-0.115216</td>\n",
       "      <td>-0.115216</td>\n",
       "      <td>-0.115216</td>\n",
       "      <td>-0.115216</td>\n",
       "    </tr>\n",
       "    <tr>\n",
       "      <th>4</th>\n",
       "      <td>-0.073627</td>\n",
       "      <td>-0.073627</td>\n",
       "      <td>-0.073627</td>\n",
       "      <td>-0.073627</td>\n",
       "      <td>-0.073627</td>\n",
       "      <td>-0.073627</td>\n",
       "      <td>-0.073627</td>\n",
       "      <td>-0.073627</td>\n",
       "      <td>-0.073627</td>\n",
       "      <td>-0.073627</td>\n",
       "      <td>...</td>\n",
       "      <td>-0.073627</td>\n",
       "      <td>-0.073627</td>\n",
       "      <td>-0.073627</td>\n",
       "      <td>-0.073627</td>\n",
       "      <td>-0.073627</td>\n",
       "      <td>-0.073627</td>\n",
       "      <td>-0.073627</td>\n",
       "      <td>-0.073627</td>\n",
       "      <td>-0.073627</td>\n",
       "      <td>-0.073627</td>\n",
       "    </tr>\n",
       "    <tr>\n",
       "      <th>5</th>\n",
       "      <td>-0.224218</td>\n",
       "      <td>-0.224218</td>\n",
       "      <td>-0.224218</td>\n",
       "      <td>-0.224218</td>\n",
       "      <td>-0.224218</td>\n",
       "      <td>-0.224218</td>\n",
       "      <td>-0.224218</td>\n",
       "      <td>-0.224218</td>\n",
       "      <td>-0.224218</td>\n",
       "      <td>-0.224218</td>\n",
       "      <td>...</td>\n",
       "      <td>-0.224218</td>\n",
       "      <td>-0.224218</td>\n",
       "      <td>-0.224218</td>\n",
       "      <td>-0.224218</td>\n",
       "      <td>-0.224218</td>\n",
       "      <td>-0.224218</td>\n",
       "      <td>-0.224218</td>\n",
       "      <td>-0.224218</td>\n",
       "      <td>-0.224218</td>\n",
       "      <td>-0.224218</td>\n",
       "    </tr>\n",
       "  </tbody>\n",
       "</table>\n",
       "<p>5 rows × 3664 columns</p>\n",
       "</div>"
      ],
      "text/plain": [
       "titulo   $1,000,000 Duck  'Night Mother  'Til There Was You  'burbs, The  \\\n",
       "user_id                                                                    \n",
       "1              -0.119587      -0.119587           -0.119587    -0.119587   \n",
       "2              -0.184261      -0.184261           -0.184261    -0.184261   \n",
       "3              -0.115216      -0.115216           -0.115216    -0.115216   \n",
       "4              -0.073627      -0.073627           -0.073627    -0.073627   \n",
       "5              -0.224218      -0.224218           -0.224218    -0.224218   \n",
       "\n",
       "titulo   ...And Justice for All     1-900  10 Things I Hate About You  \\\n",
       "user_id                                                                 \n",
       "1                     -0.119587 -0.119587                   -0.119587   \n",
       "2                     -0.184261 -0.184261                   -0.184261   \n",
       "3                     -0.115216 -0.115216                   -0.115216   \n",
       "4                     -0.073627 -0.073627                   -0.073627   \n",
       "5                     -0.224218 -0.224218                   -0.224218   \n",
       "\n",
       "titulo   101 Dalmatians  12 Angry Men  13th Warrior, The    ...     \\\n",
       "user_id                                                     ...      \n",
       "1             -0.119587     -0.119587          -0.119587    ...      \n",
       "2             -0.184261     -0.184261          -0.184261    ...      \n",
       "3             -0.115216     -0.115216          -0.115216    ...      \n",
       "4             -0.073627     -0.073627          -0.073627    ...      \n",
       "5             -0.224218     -0.224218          -0.224218    ...      \n",
       "\n",
       "titulo   Young Poisoner's Handbook, The  Young Sherlock Holmes  \\\n",
       "user_id                                                          \n",
       "1                             -0.119587              -0.119587   \n",
       "2                             -0.184261              -0.184261   \n",
       "3                             -0.115216              -0.115216   \n",
       "4                             -0.073627              -0.073627   \n",
       "5                             -0.224218              -0.224218   \n",
       "\n",
       "titulo   Young and Innocent  Your Friends and Neighbors  Zachariah  \\\n",
       "user_id                                                              \n",
       "1                 -0.119587                   -0.119587  -0.119587   \n",
       "2                 -0.184261                   -0.184261  -0.184261   \n",
       "3                 -0.115216                   -0.115216  -0.115216   \n",
       "4                 -0.073627                   -0.073627  -0.073627   \n",
       "5                 -0.224218                   -0.224218  -0.224218   \n",
       "\n",
       "titulo   Zed & Two Noughts, A  Zero Effect  \\\n",
       "user_id                                      \n",
       "1                   -0.119587    -0.119587   \n",
       "2                   -0.184261    -0.184261   \n",
       "3                   -0.115216    -0.115216   \n",
       "4                   -0.073627    -0.073627   \n",
       "5                   -0.224218    -0.224218   \n",
       "\n",
       "titulo   Zero Kelvin (Kj�rlighetens kj�tere)  Zeus and Roxanne  eXistenZ  \n",
       "user_id                                                                   \n",
       "1                                  -0.119587         -0.119587 -0.119587  \n",
       "2                                  -0.184261         -0.184261 -0.184261  \n",
       "3                                  -0.115216         -0.115216 -0.115216  \n",
       "4                                  -0.073627         -0.073627 -0.073627  \n",
       "5                                  -0.224218         -0.224218 -0.224218  \n",
       "\n",
       "[5 rows x 3664 columns]"
      ]
     },
     "execution_count": 17,
     "metadata": {},
     "output_type": "execute_result"
    }
   ],
   "source": [
    "datos_norm.head()"
   ]
  },
  {
   "cell_type": "code",
   "execution_count": 18,
   "metadata": {},
   "outputs": [
    {
     "data": {
      "text/plain": [
       "44"
      ]
     },
     "execution_count": 18,
     "metadata": {},
     "output_type": "execute_result"
    }
   ],
   "source": [
    "gc.collect()"
   ]
  },
  {
   "cell_type": "code",
   "execution_count": 19,
   "metadata": {},
   "outputs": [],
   "source": [
    "matrix = datos_norm.values # Creamos una matriz con los valores del df normalizado"
   ]
  },
  {
   "cell_type": "code",
   "execution_count": 20,
   "metadata": {},
   "outputs": [
    {
     "data": {
      "text/plain": [
       "(6040, 3664)"
      ]
     },
     "execution_count": 20,
     "metadata": {},
     "output_type": "execute_result"
    }
   ],
   "source": [
    "matrix.shape"
   ]
  },
  {
   "cell_type": "code",
   "execution_count": 21,
   "metadata": {},
   "outputs": [],
   "source": [
    "movie_similar = cosine_similarity(matrix.T) #Calculamos la distancia del coseno entre películas"
   ]
  },
  {
   "cell_type": "code",
   "execution_count": 22,
   "metadata": {},
   "outputs": [],
   "source": [
    "#Creamos un df para hacer más fácil la visualización de la simulitud de las películas\n",
    "movie_sim_df = pd.DataFrame(movie_similar, index = datos_norm.T.index, columns = datos_norm.T.index)"
   ]
  },
  {
   "cell_type": "code",
   "execution_count": 23,
   "metadata": {},
   "outputs": [
    {
     "data": {
      "text/html": [
       "<div>\n",
       "<style scoped>\n",
       "    .dataframe tbody tr th:only-of-type {\n",
       "        vertical-align: middle;\n",
       "    }\n",
       "\n",
       "    .dataframe tbody tr th {\n",
       "        vertical-align: top;\n",
       "    }\n",
       "\n",
       "    .dataframe thead th {\n",
       "        text-align: right;\n",
       "    }\n",
       "</style>\n",
       "<table border=\"1\" class=\"dataframe\">\n",
       "  <thead>\n",
       "    <tr style=\"text-align: right;\">\n",
       "      <th>titulo</th>\n",
       "      <th>$1,000,000 Duck</th>\n",
       "      <th>'Night Mother</th>\n",
       "      <th>'Til There Was You</th>\n",
       "      <th>'burbs, The</th>\n",
       "      <th>...And Justice for All</th>\n",
       "      <th>1-900</th>\n",
       "      <th>10 Things I Hate About You</th>\n",
       "      <th>101 Dalmatians</th>\n",
       "      <th>12 Angry Men</th>\n",
       "      <th>13th Warrior, The</th>\n",
       "      <th>...</th>\n",
       "      <th>Young Poisoner's Handbook, The</th>\n",
       "      <th>Young Sherlock Holmes</th>\n",
       "      <th>Young and Innocent</th>\n",
       "      <th>Your Friends and Neighbors</th>\n",
       "      <th>Zachariah</th>\n",
       "      <th>Zed &amp; Two Noughts, A</th>\n",
       "      <th>Zero Effect</th>\n",
       "      <th>Zero Kelvin (Kj�rlighetens kj�tere)</th>\n",
       "      <th>Zeus and Roxanne</th>\n",
       "      <th>eXistenZ</th>\n",
       "    </tr>\n",
       "    <tr>\n",
       "      <th>titulo</th>\n",
       "      <th></th>\n",
       "      <th></th>\n",
       "      <th></th>\n",
       "      <th></th>\n",
       "      <th></th>\n",
       "      <th></th>\n",
       "      <th></th>\n",
       "      <th></th>\n",
       "      <th></th>\n",
       "      <th></th>\n",
       "      <th></th>\n",
       "      <th></th>\n",
       "      <th></th>\n",
       "      <th></th>\n",
       "      <th></th>\n",
       "      <th></th>\n",
       "      <th></th>\n",
       "      <th></th>\n",
       "      <th></th>\n",
       "      <th></th>\n",
       "      <th></th>\n",
       "    </tr>\n",
       "  </thead>\n",
       "  <tbody>\n",
       "    <tr>\n",
       "      <th>$1,000,000 Duck</th>\n",
       "      <td>1.000000</td>\n",
       "      <td>0.226403</td>\n",
       "      <td>0.287241</td>\n",
       "      <td>0.013680</td>\n",
       "      <td>0.038991</td>\n",
       "      <td>0.515257</td>\n",
       "      <td>-0.102371</td>\n",
       "      <td>-0.019481</td>\n",
       "      <td>-0.091710</td>\n",
       "      <td>-0.108637</td>\n",
       "      <td>...</td>\n",
       "      <td>0.195469</td>\n",
       "      <td>-0.046259</td>\n",
       "      <td>0.504575</td>\n",
       "      <td>0.151727</td>\n",
       "      <td>0.534177</td>\n",
       "      <td>0.342827</td>\n",
       "      <td>-0.044329</td>\n",
       "      <td>0.552773</td>\n",
       "      <td>0.423281</td>\n",
       "      <td>-0.057637</td>\n",
       "    </tr>\n",
       "    <tr>\n",
       "      <th>'Night Mother</th>\n",
       "      <td>0.226403</td>\n",
       "      <td>1.000000</td>\n",
       "      <td>0.211111</td>\n",
       "      <td>0.029864</td>\n",
       "      <td>0.069808</td>\n",
       "      <td>0.340435</td>\n",
       "      <td>-0.060055</td>\n",
       "      <td>-0.045779</td>\n",
       "      <td>-0.064600</td>\n",
       "      <td>-0.092479</td>\n",
       "      <td>...</td>\n",
       "      <td>0.124712</td>\n",
       "      <td>-0.046943</td>\n",
       "      <td>0.345423</td>\n",
       "      <td>0.133307</td>\n",
       "      <td>0.352796</td>\n",
       "      <td>0.244651</td>\n",
       "      <td>-0.029017</td>\n",
       "      <td>0.364859</td>\n",
       "      <td>0.262286</td>\n",
       "      <td>-0.037362</td>\n",
       "    </tr>\n",
       "    <tr>\n",
       "      <th>'Til There Was You</th>\n",
       "      <td>0.287241</td>\n",
       "      <td>0.211111</td>\n",
       "      <td>1.000000</td>\n",
       "      <td>0.101821</td>\n",
       "      <td>0.079687</td>\n",
       "      <td>0.527723</td>\n",
       "      <td>-0.033479</td>\n",
       "      <td>-0.048342</td>\n",
       "      <td>-0.068866</td>\n",
       "      <td>-0.040252</td>\n",
       "      <td>...</td>\n",
       "      <td>0.160314</td>\n",
       "      <td>-0.055961</td>\n",
       "      <td>0.442899</td>\n",
       "      <td>0.147584</td>\n",
       "      <td>0.469536</td>\n",
       "      <td>0.295178</td>\n",
       "      <td>-0.018119</td>\n",
       "      <td>0.485826</td>\n",
       "      <td>0.364868</td>\n",
       "      <td>-0.042425</td>\n",
       "    </tr>\n",
       "    <tr>\n",
       "      <th>'burbs, The</th>\n",
       "      <td>0.013680</td>\n",
       "      <td>0.029864</td>\n",
       "      <td>0.101821</td>\n",
       "      <td>1.000000</td>\n",
       "      <td>0.111827</td>\n",
       "      <td>0.010899</td>\n",
       "      <td>0.077131</td>\n",
       "      <td>0.089290</td>\n",
       "      <td>0.091483</td>\n",
       "      <td>0.059172</td>\n",
       "      <td>...</td>\n",
       "      <td>0.019160</td>\n",
       "      <td>0.029011</td>\n",
       "      <td>0.009646</td>\n",
       "      <td>0.013183</td>\n",
       "      <td>0.010859</td>\n",
       "      <td>0.007766</td>\n",
       "      <td>-0.001345</td>\n",
       "      <td>0.010550</td>\n",
       "      <td>0.004749</td>\n",
       "      <td>-0.026783</td>\n",
       "    </tr>\n",
       "    <tr>\n",
       "      <th>...And Justice for All</th>\n",
       "      <td>0.038991</td>\n",
       "      <td>0.069808</td>\n",
       "      <td>0.079687</td>\n",
       "      <td>0.111827</td>\n",
       "      <td>1.000000</td>\n",
       "      <td>0.045556</td>\n",
       "      <td>-0.015593</td>\n",
       "      <td>0.056237</td>\n",
       "      <td>0.120471</td>\n",
       "      <td>0.040309</td>\n",
       "      <td>...</td>\n",
       "      <td>0.021856</td>\n",
       "      <td>-0.000602</td>\n",
       "      <td>0.055240</td>\n",
       "      <td>0.021200</td>\n",
       "      <td>0.046917</td>\n",
       "      <td>0.043497</td>\n",
       "      <td>-0.015681</td>\n",
       "      <td>0.051674</td>\n",
       "      <td>0.027438</td>\n",
       "      <td>-0.017999</td>\n",
       "    </tr>\n",
       "  </tbody>\n",
       "</table>\n",
       "<p>5 rows × 3664 columns</p>\n",
       "</div>"
      ],
      "text/plain": [
       "titulo                  $1,000,000 Duck  'Night Mother  'Til There Was You  \\\n",
       "titulo                                                                       \n",
       "$1,000,000 Duck                1.000000       0.226403            0.287241   \n",
       "'Night Mother                  0.226403       1.000000            0.211111   \n",
       "'Til There Was You             0.287241       0.211111            1.000000   \n",
       "'burbs, The                    0.013680       0.029864            0.101821   \n",
       "...And Justice for All         0.038991       0.069808            0.079687   \n",
       "\n",
       "titulo                  'burbs, The  ...And Justice for All     1-900  \\\n",
       "titulo                                                                  \n",
       "$1,000,000 Duck            0.013680                0.038991  0.515257   \n",
       "'Night Mother              0.029864                0.069808  0.340435   \n",
       "'Til There Was You         0.101821                0.079687  0.527723   \n",
       "'burbs, The                1.000000                0.111827  0.010899   \n",
       "...And Justice for All     0.111827                1.000000  0.045556   \n",
       "\n",
       "titulo                  10 Things I Hate About You  101 Dalmatians  \\\n",
       "titulo                                                               \n",
       "$1,000,000 Duck                          -0.102371       -0.019481   \n",
       "'Night Mother                            -0.060055       -0.045779   \n",
       "'Til There Was You                       -0.033479       -0.048342   \n",
       "'burbs, The                               0.077131        0.089290   \n",
       "...And Justice for All                   -0.015593        0.056237   \n",
       "\n",
       "titulo                  12 Angry Men  13th Warrior, The    ...     \\\n",
       "titulo                                                     ...      \n",
       "$1,000,000 Duck            -0.091710          -0.108637    ...      \n",
       "'Night Mother              -0.064600          -0.092479    ...      \n",
       "'Til There Was You         -0.068866          -0.040252    ...      \n",
       "'burbs, The                 0.091483           0.059172    ...      \n",
       "...And Justice for All      0.120471           0.040309    ...      \n",
       "\n",
       "titulo                  Young Poisoner's Handbook, The  Young Sherlock Holmes  \\\n",
       "titulo                                                                          \n",
       "$1,000,000 Duck                               0.195469              -0.046259   \n",
       "'Night Mother                                 0.124712              -0.046943   \n",
       "'Til There Was You                            0.160314              -0.055961   \n",
       "'burbs, The                                   0.019160               0.029011   \n",
       "...And Justice for All                        0.021856              -0.000602   \n",
       "\n",
       "titulo                  Young and Innocent  Your Friends and Neighbors  \\\n",
       "titulo                                                                   \n",
       "$1,000,000 Duck                   0.504575                    0.151727   \n",
       "'Night Mother                     0.345423                    0.133307   \n",
       "'Til There Was You                0.442899                    0.147584   \n",
       "'burbs, The                       0.009646                    0.013183   \n",
       "...And Justice for All            0.055240                    0.021200   \n",
       "\n",
       "titulo                  Zachariah  Zed & Two Noughts, A  Zero Effect  \\\n",
       "titulo                                                                 \n",
       "$1,000,000 Duck          0.534177              0.342827    -0.044329   \n",
       "'Night Mother            0.352796              0.244651    -0.029017   \n",
       "'Til There Was You       0.469536              0.295178    -0.018119   \n",
       "'burbs, The              0.010859              0.007766    -0.001345   \n",
       "...And Justice for All   0.046917              0.043497    -0.015681   \n",
       "\n",
       "titulo                  Zero Kelvin (Kj�rlighetens kj�tere)  Zeus and Roxanne  \\\n",
       "titulo                                                                          \n",
       "$1,000,000 Duck                                    0.552773          0.423281   \n",
       "'Night Mother                                      0.364859          0.262286   \n",
       "'Til There Was You                                 0.485826          0.364868   \n",
       "'burbs, The                                        0.010550          0.004749   \n",
       "...And Justice for All                             0.051674          0.027438   \n",
       "\n",
       "titulo                  eXistenZ  \n",
       "titulo                            \n",
       "$1,000,000 Duck        -0.057637  \n",
       "'Night Mother          -0.037362  \n",
       "'Til There Was You     -0.042425  \n",
       "'burbs, The            -0.026783  \n",
       "...And Justice for All -0.017999  \n",
       "\n",
       "[5 rows x 3664 columns]"
      ]
     },
     "execution_count": 23,
     "metadata": {},
     "output_type": "execute_result"
    }
   ],
   "source": [
    "movie_sim_df.head()"
   ]
  },
  {
   "cell_type": "code",
   "execution_count": 24,
   "metadata": {},
   "outputs": [
    {
     "data": {
      "text/plain": [
       "132"
      ]
     },
     "execution_count": 24,
     "metadata": {},
     "output_type": "execute_result"
    }
   ],
   "source": [
    "gc.collect()"
   ]
  },
  {
   "cell_type": "code",
   "execution_count": null,
   "metadata": {},
   "outputs": [],
   "source": [
    "torch.cuda.empty_cache()"
   ]
  },
  {
   "cell_type": "code",
   "execution_count": 25,
   "metadata": {},
   "outputs": [],
   "source": [
    "#hacemos el mismo procedimiento para el df de usuario y ver cuales son más similares entre si\n",
    "usuarios_similar = cosine_similarity(matrix)"
   ]
  },
  {
   "cell_type": "code",
   "execution_count": 26,
   "metadata": {},
   "outputs": [],
   "source": [
    "usuarios_sim_df = pd.DataFrame(usuarios_similar, index = datos_norm.index, columns = datos_norm.index)"
   ]
  },
  {
   "cell_type": "code",
   "execution_count": null,
   "metadata": {},
   "outputs": [],
   "source": [
    "usuarios_sim_df.head()"
   ]
  },
  {
   "cell_type": "code",
   "execution_count": 27,
   "metadata": {},
   "outputs": [],
   "source": [
    "# Toma las 5 películas más 'parecidas' a la pelicula que se le de como input. También toma el score de similitud\n",
    "\n",
    "def top_movies(movie):\n",
    "    movie_sim = movie_sim_df.sort_values(by = movie, ascending=False).index[1:6]\n",
    "    valores_sim = movie_sim_df.sort_values(by = movie, ascending=False).loc[:,movie].tolist()[1:6]\n",
    "    zipped = zip(movie_sim, valores_sim,)\n",
    "    print('Películas similares a ', movie)\n",
    "    for mov, sim in zipped:\n",
    "        print(mov, 'tiene similitud de ', sim)"
   ]
  },
  {
   "cell_type": "code",
   "execution_count": 28,
   "metadata": {},
   "outputs": [],
   "source": [
    "# Toma los usuarios con mayor similitud dado un usuario 'x'. También toma el score de similitud\n",
    "\n",
    "def top_users(usuario, n):\n",
    "    if usuario not in datos_completos.index:\n",
    "        return('No existe usuario')\n",
    "    else:\n",
    "        valores_sim = usuarios_sim_df.sort_values(by = usuario, ascending=False).loc[:,usuario].tolist()[1:n+1]\n",
    "        usuario_sim = usuarios_sim_df.sort_values(by = usuario, ascending=False).index[1:n+1]\n",
    "        #zipped = zip(usuario_sim, valores_sim,)\n",
    "        parejas = []\n",
    "        for v in range(len(valores_sim)):\n",
    "            parejas.append((usuario_sim[v], valores_sim[v]))\n",
    "            #print('El usuario ', user, 'tiene similitud de ', sim)\n",
    "        return parejas"
   ]
  },
  {
   "cell_type": "code",
   "execution_count": 29,
   "metadata": {},
   "outputs": [],
   "source": [
    "def obtener_promedio(usuario):\n",
    "    vistos = datos_completos.T[datos_completos.loc[usuario,:]>0].index.tolist()\n",
    "    \n",
    "    prom = []\n",
    "    for i in vistos:\n",
    "        prom.append(datos_completos.loc[usuario, i])\n",
    "        \n",
    "    return np.mean(prom)"
   ]
  },
  {
   "cell_type": "code",
   "execution_count": 30,
   "metadata": {},
   "outputs": [],
   "source": [
    "def prediccion(peli, usuario, n):\n",
    "    sim = top_users(usuario, n)\n",
    "    sim_total = sum([i[1] for i in sim])\n",
    "    lambdas = 0\n",
    "    pred = 0\n",
    "    for i in sim:\n",
    "        lambdas = (i[1]/sim_total)\n",
    "        cal_movie = datos_completos.loc[i[0], peli]\n",
    "        prom = obtener_promedio(usuario)\n",
    "        prom1 = obtener_promedio(i[0])\n",
    "        pred += lambdas*(cal_movie-prom1)\n",
    "\n",
    "    return round(pred + prom)"
   ]
  },
  {
   "cell_type": "code",
   "execution_count": 31,
   "metadata": {},
   "outputs": [
    {
     "name": "stdout",
     "output_type": "stream",
     "text": [
      "Películas similares a  10 Things I Hate About You\n",
      "American Pie tiene similitud de  0.40267642925343555\n",
      "Austin Powers: The Spy Who Shagged Me tiene similitud de  0.3486986601755031\n",
      "She's All That tiene similitud de  0.34770734191661795\n",
      "Big Daddy tiene similitud de  0.3415634037040133\n",
      "Cruel Intentions tiene similitud de  0.3306761084477506\n"
     ]
    }
   ],
   "source": [
    "top_movies('10 Things I Hate About You')"
   ]
  },
  {
   "cell_type": "code",
   "execution_count": 32,
   "metadata": {},
   "outputs": [
    {
     "name": "stdout",
     "output_type": "stream",
     "text": [
      "Películas similares a  Toy Story\n",
      "Toy Story 2 tiene similitud de  0.5109854855905952\n",
      "Groundhog Day tiene similitud de  0.46347078796835933\n",
      "Aladdin tiene similitud de  0.44192800314573616\n",
      "Babe tiene similitud de  0.43115005720082084\n",
      "Bug's Life, A tiene similitud de  0.39153166680818036\n"
     ]
    }
   ],
   "source": [
    "top_movies('Toy Story')"
   ]
  },
  {
   "cell_type": "code",
   "execution_count": 44,
   "metadata": {},
   "outputs": [
    {
     "data": {
      "text/plain": [
       "3.0"
      ]
     },
     "execution_count": 44,
     "metadata": {},
     "output_type": "execute_result"
    }
   ],
   "source": [
    "prediccion('Toy Story', 1500, 25)"
   ]
  },
  {
   "cell_type": "markdown",
   "metadata": {},
   "source": [
    "# Calcular exactitud"
   ]
  },
  {
   "cell_type": "code",
   "execution_count": 34,
   "metadata": {},
   "outputs": [],
   "source": [
    "from sklearn.metrics import f1_score"
   ]
  },
  {
   "cell_type": "code",
   "execution_count": 45,
   "metadata": {},
   "outputs": [],
   "source": [
    "def error(usuario, n):\n",
    "    vistos = datos_completos.T[datos_completos.loc[usuario,:]>0].index.tolist()\n",
    "    real =[]\n",
    "    pred = []\n",
    "    for i in vistos:\n",
    "        real.append(datos_completos.loc[usuario, i])\n",
    "        pred.append(prediccion(i, usuario, n))\n",
    "    return real, pred"
   ]
  },
  {
   "cell_type": "code",
   "execution_count": 55,
   "metadata": {},
   "outputs": [],
   "source": [
    "y_true, y_pred = error(3, 40)"
   ]
  },
  {
   "cell_type": "code",
   "execution_count": 39,
   "metadata": {},
   "outputs": [
    {
     "data": {
      "text/plain": [
       "<zip at 0x7f88c83b31e0>"
      ]
     },
     "execution_count": 39,
     "metadata": {},
     "output_type": "execute_result"
    }
   ],
   "source": [
    "zip(y_true, y_pred)"
   ]
  },
  {
   "cell_type": "code",
   "execution_count": 53,
   "metadata": {},
   "outputs": [
    {
     "name": "stdout",
     "output_type": "stream",
     "text": [
      "3.0 0.0\n",
      "4.0 3.0\n",
      "4.0 3.0\n",
      "3.0 3.0\n",
      "3.0 1.0\n",
      "3.0 0.0\n",
      "5.0 1.0\n",
      "5.0 2.0\n",
      "4.0 2.0\n",
      "5.0 2.0\n",
      "5.0 2.0\n",
      "5.0 2.0\n",
      "4.0 2.0\n",
      "4.0 3.0\n",
      "4.0 1.0\n",
      "4.0 1.0\n",
      "4.0 1.0\n",
      "5.0 0.0\n",
      "1.0 0.0\n",
      "5.0 2.0\n",
      "2.0 1.0\n",
      "4.0 1.0\n",
      "4.0 1.0\n",
      "2.0 2.0\n",
      "4.0 1.0\n",
      "2.0 0.0\n",
      "4.0 4.0\n",
      "4.0 3.0\n",
      "4.0 3.0\n",
      "4.0 1.0\n",
      "4.0 2.0\n",
      "3.0 3.0\n",
      "3.0 2.0\n",
      "5.0 3.0\n",
      "2.0 1.0\n",
      "3.0 1.0\n",
      "5.0 4.0\n",
      "5.0 4.0\n",
      "4.0 2.0\n",
      "4.0 2.0\n",
      "5.0 3.0\n",
      "3.0 2.0\n",
      "5.0 3.0\n",
      "5.0 4.0\n",
      "4.0 4.0\n",
      "4.0 4.0\n",
      "4.0 1.0\n",
      "3.0 2.0\n",
      "5.0 1.0\n",
      "5.0 1.0\n",
      "4.0 1.0\n"
     ]
    }
   ],
   "source": [
    "for i, j in zip(y_true, y_pred):\n",
    "    print(i, j)"
   ]
  },
  {
   "cell_type": "code",
   "execution_count": 66,
   "metadata": {},
   "outputs": [
    {
     "data": {
      "text/plain": [
       "0.16119117330189997"
      ]
     },
     "execution_count": 66,
     "metadata": {},
     "output_type": "execute_result"
    }
   ],
   "source": [
    "f1_score(y_true, y_pred, average='weighted')"
   ]
  },
  {
   "cell_type": "code",
   "execution_count": null,
   "metadata": {},
   "outputs": [],
   "source": [
    "vist"
   ]
  },
  {
   "cell_type": "code",
   "execution_count": null,
   "metadata": {},
   "outputs": [],
   "source": []
  }
 ],
 "metadata": {
  "kernelspec": {
   "display_name": "Python 3",
   "language": "python",
   "name": "python3"
  },
  "language_info": {
   "codemirror_mode": {
    "name": "ipython",
    "version": 3
   },
   "file_extension": ".py",
   "mimetype": "text/x-python",
   "name": "python",
   "nbconvert_exporter": "python",
   "pygments_lexer": "ipython3",
   "version": "3.7.4"
  }
 },
 "nbformat": 4,
 "nbformat_minor": 4
}
